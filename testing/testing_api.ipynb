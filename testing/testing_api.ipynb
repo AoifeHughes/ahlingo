{
 "cells": [
  {
   "cell_type": "code",
   "execution_count": 1,
   "metadata": {},
   "outputs": [],
   "source": [
    "import openai\n",
    "import json\n",
    "\n",
    "\n",
    "def generate_lessons_data(language, level, topic, N_runs = 5, lesson_kinds=['conversations', 'pairs', 'translations']):\n",
    "    def make_conversation_system(language, topic, level):\n",
    "        return {\"role\": \"system\", \"content\": f'You are a language learning tool, your task is to generate produce JSON containing a series of {language} conversations tailored to what you would expect in a {level} level text book on \"{topic}\" in {language} at {level} level.'}\n",
    "\n",
    "    def make_pairs_system(language, topic, level):\n",
    "        return {\"role\": \"system\", \"content\": f'You are a language learning tool, your task is to generate produce JSON containing a series of pairs of words in {language} and their translations in json, each pair should be a common word at {level} level and varied, these words should be related to the topic of \"{topic}\".'}\n",
    "\n",
    "    def make_translation_system(language, topic, level):\n",
    "        return {\"role\": \"system\", \"content\": f'You are a language learning tool, your task is to generate {language} sentences tailored to what you would expect in a {level} level text book and their English translations. Responses should be in JSON and be focused on the topic of \"{topic}\".'}\n",
    "\n",
    "    conversation_assistant = {\n",
    "        \"role\": \"assistant\",\n",
    "        \"content\": '[{\"conversation\": [{\"speaker\": \"person1\", \"message\": \"Quel est ton animal préféré ?\"}, {\"speaker\": \"person2\", \"message\": \"Mon animal préféré est le chat. Et toi ?\"}, {\"speaker\": \"person1\", \"message\": \"J\\'aime les chiens. Ils sont très fidèles.\"}], \"conversation_summary\": \"A conversation discussing each person\\'s favorite animal.\"}, {\"conversation\": [{\"speaker\": \"person1\", \"message\": \"Tu aimes la nature ?\"}, {\"speaker\": \"person2\", \"message\": \"Oui, j\\'adore me promener dans la forêt.\"}, {\"speaker\": \"person1\", \"message\": \"Moi aussi. C\\'est très relaxant d\\'écouter les oiseaux.\"}], \"conversation_summary\": \"A conversation about enjoying nature, especially walking in the forest and listening to birds.\"}]'\n",
    "    }\n",
    "\n",
    "    pairs_assistant = {\n",
    "        \"role\": \"assistant\",\n",
    "        \"content\": '[{\"English\": \"apple\", \"French\": \"pomme\"}, {\"English\": \"book\", \"French\": \"livre\"}, {\"English\": \"car\", \"French\": \"voiture\"}, {\"English\": \"dog\", \"French\": \"chien\"}, {\"English\": \"house\", \"French\": \"maison\"}, {\"English\": \"love\", \"French\": \"amour\"}, {\"English\": \"moon\", \"French\": \"lune\"}, {\"English\": \"sun\", \"French\": \"soleil\"}, {\"English\": \"tree\", \"French\": \"arbre\"}, {\"English\": \"water\", \"French\": \"eau\"}]'\n",
    "    }\n",
    "\n",
    "    translation_assistant = {\n",
    "        \"role\": \"assistant\",\n",
    "        \"content\": '[{\"English\": \"How are you today?\", \"French\": \"Comment vas-tu aujourd\\'hui ?\"}, {\"English\": \"I am learning to speak French.\", \"French\": \"J\\'apprends à parler français.\"}, {\"English\": \"The weather is nice this afternoon.\", \"French\": \"Le temps est agréable cet après-midi.\"}, {\"English\": \"Can you help me with my homework?\", \"French\": \"Peux-tu m\\'aider avec mes devoirs ?\"}, {\"English\": \"My family is going on vacation next week.\", \"French\": \"Ma famille part en vacances la semaine prochaine.\"}, {\"English\": \"This restaurant has delicious food.\", \"French\": \"Ce restaurant a de la nourriture délicieuse.\"}]'\n",
    "    }\n",
    "\n",
    "    client = openai.OpenAI(\n",
    "        base_url=\"http://localhost:8080/v1\",  # \"http://<Your api-server IP>:port\"\n",
    "        api_key=\"sk-no-key-required\"\n",
    "    )\n",
    "\n",
    "    user1 = {\"role\": \"user\", \"content\": \"Generate some language exercises for me.\"}\n",
    "    user2 = {\"role\": \"user\", \"content\": \"Create 5 more examples in the same JSON format.\"}      \n",
    "\n",
    "    def generate_responses():\n",
    "        for run in range(N_runs):\n",
    "            conversation_system = make_conversation_system(language, topic, level)\n",
    "            pairs_system = make_pairs_system(language, topic, level)\n",
    "            translation_system = make_translation_system(language, topic, level)\n",
    "            systems = []\n",
    "            assistants = []\n",
    "\n",
    "            if 'conversations' in lesson_kinds:\n",
    "                systems.append(conversation_system)\n",
    "                assistants.append(conversation_assistant)\n",
    "            if 'pairs' in lesson_kinds:\n",
    "                systems.append(pairs_system)\n",
    "                assistants.append(pairs_assistant)\n",
    "            if 'translations' in lesson_kinds: \n",
    "                systems.append(translation_system)\n",
    "                assistants.append(translation_assistant)\n",
    "\n",
    "\n",
    "            for idx, (system, assistant) in enumerate(zip(systems, assistants)):\n",
    "                completion = client.chat.completions.create(\n",
    "                    model=\"mistral\",\n",
    "                    messages=[\n",
    "                        system,\n",
    "                        user1,\n",
    "                        assistant,\n",
    "                        user2\n",
    "                    ],\n",
    "                    temperature=0.8,\n",
    "                )\n",
    "                raw_response = completion.choices[0].message.content\n",
    "                yield raw_response\n",
    "\n",
    "    return generate_responses()\n",
    "\n",
    "def dump_response(response, language, topic, level, idx, run):\n",
    "    try:\n",
    "        response = json.loads(response)\n",
    "        # write to file\n",
    "        with open(f\"{language}_{topic}_{level}_{idx}_{run}.json\", \"w\") as f:\n",
    "            json.dump(response, f, indent=4, ensure_ascii=False)\n",
    "    except json.JSONDecodeError:\n",
    "        # write as text\n",
    "        with open(f\"{language}_{topic}_{level}_{idx}_broken_{run}.json\", \"w\") as f:\n",
    "            f.write(response)\n"
   ]
  },
  {
   "cell_type": "code",
   "execution_count": 2,
   "metadata": {},
   "outputs": [],
   "source": [
    "\n",
    "topics = [\"Animals and Nature\", \"Family\", \"Travel\", \"Food and Drink\", \"Weather\", \"Shopping\", \"Health\", \"Work\", \"Sports\", \"Culture\"]\n",
    "french_food_beginner_conversations_f = generate_lessons_data(\"French\", \"beginner\", \"Food and Drink\", N_runs=5, lesson_kinds=['conversations'])"
   ]
  },
  {
   "cell_type": "code",
   "execution_count": 3,
   "metadata": {},
   "outputs": [
    {
     "name": "stdout",
     "output_type": "stream",
     "text": [
      "[{ \"conversation\": [{\"speaker\": \"person1\", \"message\": \"Qu'est-ce que tu manges pour déjeuner ?\"}, {\"speaker\": \"person2\", \"message\": \"Je mange un sandwich au fromage et aux légumes.\"}, {\"speaker\": \"person1\", \"message\": \"C'est une bonne idée ! J'aime les sandwiches au fromage.\"}], \"conversation_summary\": \"A conversation about what to eat for lunch.\"}, {\"conversation\": [{\"speaker\": \"person1\", \"message\": \"J'adore les desserts ! Qu'est-ce que tu préfères ?\"}, {\"speaker\": \"person2\", \"message\": \"Je préfère le gâteau au chocolat.\"}, {\"speaker\": \"person1\", \"message\": \"C'est délicieux ! Je préfère le tarte aux fruits.\"}], \"conversation_summary\": \"A conversation about favorite desserts.\"}, {\"conversation\": [{\"speaker\": \"person1\", \"message\": \"Aimes-tu le thé ?\"}, {\"speaker\": \"person2\", \"message\": \"Oui, j'en bois souvent le soir.\"}, {\"speaker\": \"person1\", \"message\": \"Moi aussi. J'adore le thé avec du sucre et de la crème.\"}], \"conversation_summary\": \"A conversation about liking tea.\"}, {\"conversation\": [{\"speaker\": \"person1\", \"message\": \"Qu'est-ce que tu fais pour ton anniversaire ?\"}, {\"speaker\": \"person2\", \"message\": \"Je vais aller au restaurant avec mes amis.\"}, {\"speaker\": \"person1\", \"message\": \"C'est une bonne idée ! J'adore les restaurants.\"}], \"conversation_summary\": \"A conversation about plans for an anniversary.\"}, {\"conversation\": [{\"speaker\": \"person1\", \"message\": \"J'adore les fruits ! Quels sont tes fruits préférés ?\"}, {\"speaker\": \"person2\", \"message\": \"Je préfère les bananes et les oranges.\"}, {\"speaker\": \"person1\", \"message\": \"C'est bien ! Moi aussi, j'adore les bananes.\"}], \"conversation_summary\": \"A conversation about favorite fruits.\"}]<|eot_id|>\n"
     ]
    }
   ],
   "source": [
    "first_lesson = next(french_food_beginner_conversations_f)\n",
    "print(first_lesson)"
   ]
  },
  {
   "cell_type": "code",
   "execution_count": 6,
   "metadata": {},
   "outputs": [
    {
     "data": {
      "text/plain": [
       "'[{ \"conversation\": [{\"speaker\": \"person1\", \"message\": \"Qu\\'est-ce que tu manges pour déjeuner ?\"}, {\"speaker\": \"person2\", \"message\": \"Je mange un sandwich au fromage et aux légumes.\"}, {\"speaker\": \"person1\", \"message\": \"C\\'est une bonne idée ! J\\'aime les sandwiches au fromage.\"}], \"conversation_summary\": \"A conversation about what to eat for lunch.\"}, {\"conversation\": [{\"speaker\": \"person1\", \"message\": \"J\\'adore les desserts ! Qu\\'est-ce que tu préfères ?\"}, {\"speaker\": \"person2\", \"message\": \"Je préfère le gâteau au chocolat.\"}, {\"speaker\": \"person1\", \"message\": \"C\\'est délicieux ! Je préfère le tarte aux fruits.\"}], \"conversation_summary\": \"A conversation about favorite desserts.\"}, {\"conversation\": [{\"speaker\": \"person1\", \"message\": \"Aimes-tu le thé ?\"}, {\"speaker\": \"person2\", \"message\": \"Oui, j\\'en bois souvent le soir.\"}, {\"speaker\": \"person1\", \"message\": \"Moi aussi. J\\'adore le thé avec du sucre et de la crème.\"}], \"conversation_summary\": \"A conversation about liking tea.\"}, {\"conversation\": [{\"speaker\": \"person1\", \"message\": \"Qu\\'est-ce que tu fais pour ton anniversaire ?\"}, {\"speaker\": \"person2\", \"message\": \"Je vais aller au restaurant avec mes amis.\"}, {\"speaker\": \"person1\", \"message\": \"C\\'est une bonne idée ! J\\'adore les restaurants.\"}], \"conversation_summary\": \"A conversation about plans for an anniversary.\"}, {\"conversation\": [{\"speaker\": \"person1\", \"message\": \"J\\'adore les fruits ! Quels sont tes fruits préférés ?\"}, {\"speaker\": \"person2\", \"message\": \"Je préfère les bananes et les oranges.\"}, {\"speaker\": \"person1\", \"message\": \"C\\'est bien ! Moi aussi, j\\'adore les bananes.\"}], \"conversation_summary\": \"A conversation about favorite fruits.\"}]'"
      ]
     },
     "execution_count": 6,
     "metadata": {},
     "output_type": "execute_result"
    }
   ],
   "source": [
    "first_lesson.replace(\"<|eot_id|>\", \"\")"
   ]
  },
  {
   "cell_type": "code",
   "execution_count": 4,
   "metadata": {},
   "outputs": [],
   "source": [
    "dump_response(first_lesson, \"French\", \"Food and Drink\", \"beginner\", 0, 0)"
   ]
  },
  {
   "cell_type": "code",
   "execution_count": null,
   "metadata": {},
   "outputs": [],
   "source": []
  }
 ],
 "metadata": {
  "kernelspec": {
   "display_name": "playground",
   "language": "python",
   "name": "python3"
  },
  "language_info": {
   "codemirror_mode": {
    "name": "ipython",
    "version": 3
   },
   "file_extension": ".py",
   "mimetype": "text/x-python",
   "name": "python",
   "nbconvert_exporter": "python",
   "pygments_lexer": "ipython3",
   "version": "3.11.8"
  }
 },
 "nbformat": 4,
 "nbformat_minor": 2
}
