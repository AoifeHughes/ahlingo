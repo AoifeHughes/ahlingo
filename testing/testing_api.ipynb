{
 "cells": [
  {
   "cell_type": "code",
   "execution_count": 12,
   "metadata": {},
   "outputs": [],
   "source": [
    "import openai\n",
    "import json\n",
    "\n",
    "client = openai.OpenAI(\n",
    "    base_url=\"http://localhost:8080/v1\",  # \"http://<Your api-server IP>:port\"\n",
    "    api_key=\"sk-no-key-required\"\n",
    ")\n",
    "\n",
    "completion = client.chat.completions.create(\n",
    "    model=\"mistral\",\n",
    "    messages=[\n",
    "        {\"role\": \"system\", \"content\": \"You are a language learning tool, your task is to generate questions which produce JSON containing a series of French conversations tailored to what you would expect in a beginner level text book.\"},\n",
    "        {\"role\": \"user\", \"content\": \"Provide 2 conversations on 'Animals and Nature' in French at beginner level.\"},\n",
    "        {\"role\": \"assistant\", \"content\": '[{\"conversation\": [{\"speaker\": \"person1\", \"message\": \"Quel est ton animal préféré ?\"}, {\"speaker\": \"person2\", \"message\": \"Mon animal préféré est le chat. Et toi ?\"}, {\"speaker\": \"person1\", \"message\": \"J\\'aime les chiens. Ils sont très fidèles.\"}], \"conversation_summary\": \"A conversation discussing each person\\'s favorite animal.\"}, {\"conversation\": [{\"speaker\": \"person1\", \"message\": \"Tu aimes la nature ?\"}, {\"speaker\": \"person2\", \"message\": \"Oui, j\\'adore me promener dans la forêt.\"}, {\"speaker\": \"person1\", \"message\": \"Moi aussi. C\\'est très relaxant d\\'écouter les oiseaux.\"}], \"conversation_summary\": \"A conversation about enjoying nature, especially walking in the forest and listening to birds.\"}]'},\n",
    "        {\"role\": \"user\", \"content\": \"Provide 2 more conversations in French this time, but on the subject of family\"},\n",
    "    ]\n",
    ")\n",
    "\n",
    "\n",
    "raw_response = completion.choices[0].message"
   ]
  },
  {
   "cell_type": "code",
   "execution_count": 14,
   "metadata": {},
   "outputs": [
    {
     "name": "stdout",
     "output_type": "stream",
     "text": [
      "[\n",
      "    {\n",
      "        \"conversation\": [\n",
      "            {\n",
      "                \"speaker\": \"person1\",\n",
      "                \"message\": \"お母さんはどこにいますか？\"\n",
      "            },\n",
      "            {\n",
      "                \"speaker\": \"person2\",\n",
      "                \"message\": \"お母さんは東京で働くため、家に戻るのは週末だけです。\"\n",
      "            },\n",
      "            {\n",
      "                \"speaker\": \"person1\",\n",
      "                \"message\": \"それは困りますね。私の父親は近所で仕事していますが、家族と一緒に食べる時間を楽しみます。\"\n",
      "            }\n",
      "        ],\n",
      "        \"conversation_summary\": \"A conversation discussing the locations of family members and their schedules.\"\n",
      "    },\n",
      "    {\n",
      "        \"conversation\": [\n",
      "            {\n",
      "                \"speaker\": \"person1\",\n",
      "                \"message\": \"あなたの家族は大きいですね。\"\n",
      "            },\n",
      "            {\n",
      "                \"speaker\": \"person2\",\n",
      "                \"message\": \"うん、私の父母が多くの子供を育てました。\"\n",
      "            },\n",
      "            {\n",
      "                \"speaker\": \"person1\",\n",
      "                \"message\": \"それは団長ですね？\"\n",
      "            },\n",
      "            {\n",
      "                \"speaker\": \"person2\",\n",
      "                \"message\": \"ええ、そうです。\"\n",
      "            }\n",
      "        ],\n",
      "        \"conversation_summary\": \"A conversation about the size of a person's family and their parents having many children.\"\n",
      "    }\n",
      "]\n"
     ]
    }
   ],
   "source": [
    "try:\n",
    "    # Assuming the message content is already in JSON format\n",
    "    message_content = json.loads(completion.choices[0].message.content)\n",
    "    formatted_response = json.dumps(message_content, indent=4, ensure_ascii=False)\n",
    "    print(formatted_response)\n",
    "except (TypeError, json.JSONDecodeError) as e:\n",
    "    # If the message is not in JSON format, print it directly\n",
    "    print(\"Error processing message content:\", e)\n",
    "    print(\"Raw message content:\", completion.choices[0].message)"
   ]
  }
 ],
 "metadata": {
  "kernelspec": {
   "display_name": "playground",
   "language": "python",
   "name": "python3"
  },
  "language_info": {
   "codemirror_mode": {
    "name": "ipython",
    "version": 3
   },
   "file_extension": ".py",
   "mimetype": "text/x-python",
   "name": "python",
   "nbconvert_exporter": "python",
   "pygments_lexer": "ipython3",
   "version": "3.11.7"
  }
 },
 "nbformat": 4,
 "nbformat_minor": 2
}
